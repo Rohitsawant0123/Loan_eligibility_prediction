{
  "nbformat": 4,
  "nbformat_minor": 0,
  "metadata": {
    "colab": {
      "provenance": [],
      "authorship_tag": "ABX9TyMPScLgVz0CmkiLkAn0tgvv",
      "include_colab_link": true
    },
    "kernelspec": {
      "name": "python3",
      "display_name": "Python 3"
    },
    "language_info": {
      "name": "python"
    }
  },
  "cells": [
    {
      "cell_type": "markdown",
      "metadata": {
        "id": "view-in-github",
        "colab_type": "text"
      },
      "source": [
        "<a href=\"https://colab.research.google.com/github/Rohitsawant0123/Loan_eligibility_prediction/blob/main/AMENITIES_TAGS.ipynb\" target=\"_parent\"><img src=\"https://colab.research.google.com/assets/colab-badge.svg\" alt=\"Open In Colab\"/></a>"
      ]
    },
    {
      "cell_type": "code",
      "source": [
        "# Define the keyword-tag mappings\n",
        "keyword_tags = {\n",
        "    \"Swimming_Pool\": [\"pool\", \"swim\", \"deck\"],\n",
        "    \"gymnasium\": [\"gym\", \"sport\", \"fitness\"]\n",
        "    # Add more mappings as needed\n",
        "}\n",
        "\n",
        "# Function to assign tags based on keywords\n",
        "def assign_tags(text):\n",
        "    tags = []\n",
        "    matched = False\n",
        "    for tag, keywords in keyword_tags.items():\n",
        "        for keyword in keywords:\n",
        "            if keyword.lower() in text.lower():\n",
        "                tags.append(tag)\n",
        "                matched = True\n",
        "                break  # Break out of inner loop once a match is found\n",
        "        if matched:\n",
        "            break\n",
        "    return tags\n",
        "\n",
        "# Prompt the user to paste data for column A\n",
        "Amenities_data = input(\"Paste the Amenities (separated by commas): \").split(\",\")\n",
        "\n",
        "# List to store output in desired format\n",
        "output_list = []\n",
        "\n",
        "# List to store unmatched entries\n",
        "unmatched_entries = []\n",
        "\n",
        "# Iterate through column A data\n",
        "for entry in Amenities_data:\n",
        "    entry = entry.strip()  # Remove any leading/trailing whitespace\n",
        "    tags = assign_tags(entry)\n",
        "    if tags:\n",
        "        for tag in tags:\n",
        "            output_list.append({\n",
        "                \"amenities\": entry,\n",
        "                \"amenities_type\": tag,\n",
        "                \"is_featured\": 0  # Assuming is_featured is always 0\n",
        "            })\n",
        "    else:\n",
        "        unmatched_entries.append(entry)\n",
        "\n",
        "# Format the output as a string\n",
        "output_string = \",\".join([str(item) for item in output_list])\n",
        "\n",
        "# Add brackets at the beginning and end to match the desired format\n",
        "output_string = \"[\" + output_string + \"]\"\n",
        "\n",
        "print(\"Formatted Output:\")\n",
        "print(output_string)\n",
        "\n",
        "# Print unmatched entries\n",
        "if unmatched_entries:\n",
        "    print(\"\\nUnmatched Entries:\")\n",
        "    for entry in unmatched_entries:\n",
        "        print(entry)\n",
        "else:\n",
        "    print(\"\\nNo unmatched entries found.\")\n",
        "\n"
      ],
      "metadata": {
        "colab": {
          "base_uri": "https://localhost:8080/"
        },
        "id": "5eYbW-_SXbR8",
        "outputId": "79d88482-8b4e-48b2-fd75-8669b893f8b6"
      },
      "execution_count": 5,
      "outputs": [
        {
          "output_type": "stream",
          "name": "stdout",
          "text": [
            "Paste the Amenities (separated by commas): \"kids swim\",\"tack\",\"adult gym\",\"kids sport area\"\n",
            "Formatted Output:\n",
            "[{'amenities': '\"kids swim\"', 'amenities_type': 'Swimming_Pool', 'is_featured': 0},{'amenities': '\"adult gym\"', 'amenities_type': 'gymnasium', 'is_featured': 0},{'amenities': '\"kids sport area\"', 'amenities_type': 'gymnasium', 'is_featured': 0}]\n",
            "\n",
            "Unmatched Entries:\n",
            "\"tack\"\n"
          ]
        }
      ]
    },
    {
      "cell_type": "code",
      "source": [
        "# Define the keyword-tag mappings\n",
        "keyword_tags = {\n",
        "    \"Swimming_Pool\": [\"pool\", \"swim\", \"deck\"],\n",
        "    \"gymnasium\": [\"gym\", \"sport\", \"fitness\"]\n",
        "    # Add more mappings as needed\n",
        "}\n",
        "\n",
        "# Function to assign tags based on keywords\n",
        "def assign_tags(text):\n",
        "    tags = []\n",
        "    matched = False\n",
        "    for tag, keywords in keyword_tags.items():\n",
        "        for keyword in keywords:\n",
        "            if keyword.lower() in text.lower():\n",
        "                tags.append(tag)\n",
        "                matched = True\n",
        "                break  # Break out of inner loop once a match is found\n",
        "        if matched:\n",
        "            break\n",
        "    return tags\n",
        "\n",
        "# Prompt the user to paste data for column A\n",
        "Amenities_data = input(\"Paste the Amenities (separated by commas: \").split(\",\")\n",
        "\n",
        "# List to store output in desired format\n",
        "output_list = []\n",
        "\n",
        "# List to store unmatched entries\n",
        "unmatched_entries = []\n",
        "\n",
        "# Iterate through column A data\n",
        "for entry in Amenities_data:\n",
        "    entry = entry.strip()  # Remove any leading/trailing whitespace\n",
        "    tags = assign_tags(entry)\n",
        "    if tags:\n",
        "        for tag in tags:\n",
        "            output_list.append({\n",
        "                \"amenities\": entry,\n",
        "                \"amenities_type\": tag,\n",
        "                \"is_featured\": 0  # Assuming is_featured is always 0\n",
        "            })\n",
        "    else:\n",
        "        unmatched_entries.append(entry)\n",
        "\n",
        "# Format the output as a string\n",
        "output_string = \",\".join([str(item) for item in output_list])\n",
        "\n",
        "# Add brackets at the beginning and end to match the desired format\n",
        "output_string = \"[\" + output_string + \"]\"\n",
        "\n",
        "print(\"Formatted Output:\")\n",
        "print(output_string)\n",
        "\n",
        "# Print unmatched entries\n",
        "if unmatched_entries:\n",
        "    print(\"\\nUnmatched Entries:\")\n",
        "    for entry in unmatched_entries:\n",
        "        print(entry)\n",
        "else:\n",
        "    print(\"\\nNo unmatched entries found.\")\n"
      ],
      "metadata": {
        "id": "5ENr4AQwfVFg"
      },
      "execution_count": null,
      "outputs": []
    }
  ]
}